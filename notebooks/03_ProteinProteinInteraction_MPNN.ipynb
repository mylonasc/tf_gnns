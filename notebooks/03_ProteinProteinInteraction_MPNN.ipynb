{
 "cells": [
  {
   "cell_type": "code",
   "execution_count": 1,
   "metadata": {},
   "outputs": [],
   "source": [
    "%%capture\n",
    "!pip install tf_gnns==0.1.8\n",
    "!pip install tensorflow\n",
    "!pip install tqdm \n",
    "\n",
    "## The following are needed for data-loading \n",
    "# \n",
    "#   Older versions of pytorch geometric are needed because there was a change \n",
    "# in loading the data that is not supported from the newer ones.\n",
    "# This is the reason for the deprecation warning as well.\n",
    "# \n",
    "!pip install torch_geometric==2.5\n",
    "!pip install torch==2.5\n"
   ]
  },
  {
   "cell_type": "code",
   "execution_count": null,
   "metadata": {},
   "outputs": [
    {
     "name": "stderr",
     "output_type": "stream",
     "text": [
      "2025-04-20 17:47:59.621788: I tensorflow/core/util/port.cc:153] oneDNN custom operations are on. You may see slightly different numerical results due to floating-point round-off errors from different computation orders. To turn them off, set the environment variable `TF_ENABLE_ONEDNN_OPTS=0`.\n",
      "2025-04-20 17:47:59.629382: E external/local_xla/xla/stream_executor/cuda/cuda_fft.cc:467] Unable to register cuFFT factory: Attempting to register factory for plugin cuFFT when one has already been registered\n",
      "WARNING: All log messages before absl::InitializeLog() is called are written to STDERR\n",
      "E0000 00:00:1745164079.637978   44133 cuda_dnn.cc:8579] Unable to register cuDNN factory: Attempting to register factory for plugin cuDNN when one has already been registered\n",
      "E0000 00:00:1745164079.640549   44133 cuda_blas.cc:1407] Unable to register cuBLAS factory: Attempting to register factory for plugin cuBLAS when one has already been registered\n",
      "W0000 00:00:1745164079.647854   44133 computation_placer.cc:177] computation placer already registered. Please check linkage and avoid linking the same target more than once.\n",
      "W0000 00:00:1745164079.647863   44133 computation_placer.cc:177] computation placer already registered. Please check linkage and avoid linking the same target more than once.\n",
      "W0000 00:00:1745164079.647864   44133 computation_placer.cc:177] computation placer already registered. Please check linkage and avoid linking the same target more than once.\n",
      "W0000 00:00:1745164079.647865   44133 computation_placer.cc:177] computation placer already registered. Please check linkage and avoid linking the same target more than once.\n",
      "2025-04-20 17:47:59.650413: I tensorflow/core/platform/cpu_feature_guard.cc:210] This TensorFlow binary is optimized to use available CPU instructions in performance-critical operations.\n",
      "To enable the following instructions: AVX2 AVX_VNNI FMA, in other operations, rebuild TensorFlow with the appropriate compiler flags.\n"
     ]
    }
   ],
   "source": [
    "import torch\n",
    "import tensorflow as tf\n",
    "from torch_geometric.loader import DataLoader\n",
    "from torch_geometric.datasets import PPI\n",
    "from tqdm import tqdm\n",
    "import matplotlib.pyplot as pplot"
   ]
  },
  {
   "cell_type": "code",
   "execution_count": 3,
   "metadata": {},
   "outputs": [],
   "source": [
    "## Transformations from pytorch geometric to tf_gnns:\n",
    "def _pt_to_tf(x):\n",
    "    x_dl = torch.utils.dlpack.to_dlpack(x)\n",
    "    return tf.experimental.dlpack.from_dlpack(x_dl)\n",
    "\n",
    "def _infer_n_nodes(dbatch):\n",
    "    n_nodes = tf.cast(\n",
    "        tf.math.segment_sum(tf.ones(tf.shape(dbatch.batch)[0]), dbatch.batch), tf.int64\n",
    "    )\n",
    "    return n_nodes\n",
    "\n",
    "def _infer_n_edges(dbatch, n_nodes):\n",
    "    \"\"\"DGL/PyG batches don't contain n_nodes and n_edges.\n",
    "    When performing global aggregations per-graph, we need these \n",
    "    to correctly aggregate the graph outputs. \n",
    "    \n",
    "    This utility function infers from the pyg databatch the n_edges and n_nodes \n",
    "    per graph. The function is fully vectorized and should have minimal overhead.\n",
    "    \"\"\"\n",
    "    nnodes_cumsum = tf.cumsum(n_nodes)[...,tf.newaxis]\n",
    "    _dd1 = dbatch.edge_index[0] < nnodes_cumsum\n",
    "    _dd2 = dbatch.edge_index[1] < nnodes_cumsum\n",
    "    _c1 = tf.reduce_sum(tf.cast(_dd1, tf.int64), axis = 1)\n",
    "    _c2 = tf.reduce_sum(tf.cast(_dd2, tf.int64), axis = 1)\n",
    "    edge_offsets = tf.reduce_max(tf.stack([_c1, _c2]),0)-1\n",
    "    n_edges = tf.concat([edge_offsets[0][tf.newaxis], edge_offsets[1:] - edge_offsets[:-1]], axis = 0)\n",
    "    return n_edges\n",
    "\n",
    "def _dgl_databatch_to_tfgnn_graph_tuple(dbatch, infer_n_edges = False):\n",
    "    \"\"\"TFGNNs uses a simple dictionary of tensorflow tensors for input data.\n",
    "    The TFGNN model constructors will skip creating a global variable and\n",
    "    global message passing (e.g., node-to-global, edge-to-global)\n",
    "    if there is no global variable in the inputs. \n",
    "    \"\"\"\n",
    "    x =  _pt_to_tf(dbatch.x)\n",
    "    y =  _pt_to_tf(dbatch.y)\n",
    "    edges = _pt_to_tf(dbatch.edge_index)\n",
    "    n_graphs = dbatch.num_graphs\n",
    "    n_nodes = _infer_n_nodes(dbatch)\n",
    "    \n",
    "    dd = {\n",
    "        'senders' : edges[0],\n",
    "        'receivers' : edges[1],\n",
    "        'edges' : tf.ones((tf.shape(edges)[1],1 ) ),\n",
    "        'nodes' : x,\n",
    "        'n_nodes' : n_nodes,\n",
    "        'n_graphs' : tf.constant(n_graphs)\n",
    "    }\n",
    "    if infer_n_edges:\n",
    "        dd['n_edges'] = _infer_n_edges(dbatch, n_nodes)\n",
    "    return dd, y\n",
    "\n",
    "_ppi_docstring_ = PPI.__doc__\n",
    "\n",
    "class TfgPPI:\n",
    "    __doc__=f\"\"\"A wrapper to the pytorch_geometric (pyg) data classes and data loaders.\n",
    "    It uses the loaders from `pyg` to get pytorch tensors, and `dlpack` to transform \n",
    "    them in-memory to `tensorflow` tensors compatible with tf_gnns.\n",
    "    \n",
    "    Because the PPI dataset has a relatively small memory footprint, \n",
    "    the data can be pre-transformed in-memory.\n",
    "    \n",
    "    Args:\n",
    "        ppi_root : the root dir to be passed into the wrapped class\n",
    "        split : (str) 'train' or 'test'/'val'.\n",
    "        \n",
    "    ----------------------------------------------------------------------------\n",
    "    Wrapped class docstring (parameters of wrapped class are irrelevant)\n",
    "    shown for easier reference:\n",
    "    ----------------------------------------------------------------------------\n",
    "    \n",
    "    {_ppi_docstring_}\n",
    "    \"\"\"\n",
    "    def __init__(self, ppi_root : str = '.ppi_cache',split : str= 'train'):\n",
    "        self.ppi_root = ppi_root\n",
    "        self.ppi_obj = PPI(ppi_root, split = split)    \n",
    "    \n",
    "    \n",
    "    def generator(self, batch_size = 1, shuffle = True, for_pyg = False):\n",
    "        for g in DataLoader(self.ppi_obj, batch_size=batch_size, shuffle=shuffle):\n",
    "            if for_pyg:\n",
    "                yield g\n",
    "            else:\n",
    "                yield _dgl_databatch_to_tfgnn_graph_tuple(g)\n",
    "    def get_prepared_data(self,batch_size = 1, shuffle = True, for_pyg = False):\n",
    "        return [gg for gg in self.generator(batch_size=batch_size, shuffle = shuffle, for_pyg = for_pyg)]"
   ]
  },
  {
   "cell_type": "code",
   "execution_count": 4,
   "metadata": {},
   "outputs": [
    {
     "name": "stderr",
     "output_type": "stream",
     "text": [
      "/home/charilaos/Workspace/tf_gnns/.venv/lib/python3.12/site-packages/torch_geometric/data/dataset.py:241: FutureWarning: You are using `torch.load` with `weights_only=False` (the current default value), which uses the default pickle module implicitly. It is possible to construct malicious pickle data which will execute arbitrary code during unpickling (See https://github.com/pytorch/pytorch/blob/main/SECURITY.md#untrusted-models for more details). In a future release, the default value for `weights_only` will be flipped to `True`. This limits the functions that could be executed during unpickling. Arbitrary objects will no longer be allowed to be loaded via this mode unless they are explicitly allowlisted by the user via `torch.serialization.add_safe_globals`. We recommend you start setting `weights_only=True` for any use case where you don't have full control of the loaded file. Please open an issue on GitHub for any issues related to this experimental feature.\n",
      "  if osp.exists(f) and torch.load(f) != _repr(self.pre_transform):\n",
      "/home/charilaos/Workspace/tf_gnns/.venv/lib/python3.12/site-packages/torch_geometric/data/dataset.py:249: FutureWarning: You are using `torch.load` with `weights_only=False` (the current default value), which uses the default pickle module implicitly. It is possible to construct malicious pickle data which will execute arbitrary code during unpickling (See https://github.com/pytorch/pytorch/blob/main/SECURITY.md#untrusted-models for more details). In a future release, the default value for `weights_only` will be flipped to `True`. This limits the functions that could be executed during unpickling. Arbitrary objects will no longer be allowed to be loaded via this mode unless they are explicitly allowlisted by the user via `torch.serialization.add_safe_globals`. We recommend you start setting `weights_only=True` for any use case where you don't have full control of the loaded file. Please open an issue on GitHub for any issues related to this experimental feature.\n",
      "  if osp.exists(f) and torch.load(f) != _repr(self.pre_filter):\n",
      "/home/charilaos/Workspace/tf_gnns/.venv/lib/python3.12/site-packages/torch_geometric/io/fs.py:214: FutureWarning: You are using `torch.load` with `weights_only=False` (the current default value), which uses the default pickle module implicitly. It is possible to construct malicious pickle data which will execute arbitrary code during unpickling (See https://github.com/pytorch/pytorch/blob/main/SECURITY.md#untrusted-models for more details). In a future release, the default value for `weights_only` will be flipped to `True`. This limits the functions that could be executed during unpickling. Arbitrary objects will no longer be allowed to be loaded via this mode unless they are explicitly allowlisted by the user via `torch.serialization.add_safe_globals`. We recommend you start setting `weights_only=True` for any use case where you don't have full control of the loaded file. Please open an issue on GitHub for any issues related to this experimental feature.\n",
      "  return torch.load(f, map_location)\n",
      "I0000 00:00:1745164081.474881   44133 gpu_device.cc:2019] Created device /job:localhost/replica:0/task:0/device:GPU:0 with 22104 MB memory:  -> device: 0, name: NVIDIA GeForce RTX 4090, pci bus id: 0000:01:00.0, compute capability: 8.9\n"
     ]
    }
   ],
   "source": [
    "train_data = TfgPPI(ppi_root = '.', split='train').get_prepared_data(batch_size=1, shuffle = True)\n",
    "val_data = TfgPPI(ppi_root = '.', split='val').get_prepared_data(batch_size=2, shuffle = True)\n",
    "test_data = TfgPPI(ppi_root = '.', split='test').get_prepared_data(batch_size=2, shuffle = True)"
   ]
  },
  {
   "cell_type": "code",
   "execution_count": 5,
   "metadata": {},
   "outputs": [
    {
     "name": "stdout",
     "output_type": "stream",
     "text": [
      "Info: Tensorflow probability (tfp) is not available. Some functionality depending on legacy tfp will not be directly available.\n"
     ]
    }
   ],
   "source": [
    "from tf_gnns import GraphNetMPNN_MLP, GraphIndep\n",
    "from tf_gnns.lib.gt_ops import _assign_add_tensor_dict"
   ]
  },
  {
   "cell_type": "code",
   "execution_count": 6,
   "metadata": {},
   "outputs": [],
   "source": [
    "from tf_gnns import GNCellMLP\n",
    "def _assign_add_tensor_dict_noglobals(d_,od):\n",
    "    d_['nodes']       = d_['nodes']       + od['nodes']\n",
    "    d_['edges']       = d_['edges']       + od['edges']\n",
    "    return d_\n",
    "\n",
    "class MPNNNodeClassifier(tf.keras.Model):\n",
    "    def __init__(self, enc_units = 32, mpnn_units = 128, mp_steps = 2, n_classes_out = 121):\n",
    "        super(MPNNNodeClassifier,self).__init__()\n",
    "        self.mp_steps = mp_steps        \n",
    "        self.g_enc = GraphIndep(enc_units)\n",
    "        self.core_gns = []\n",
    "        \n",
    "        self.mpnn_units = mpnn_units        \n",
    "        for c in range(self.mp_steps):\n",
    "            self.core_gns.append(GNCellMLP(self.mpnn_units))\n",
    "        \n",
    "        # project nodes to n_classes_out:\n",
    "        self.node_dec = tf.keras.layers.Dense(n_classes_out)\n",
    "        \n",
    "    def call(self, graph_in, return_logits = False):\n",
    "        _g = self.g_enc(graph_in)\n",
    "        \n",
    "        for m in self.core_gns:\n",
    "            _g_new = m(_g)\n",
    "            _g = _assign_add_tensor_dict_noglobals(_g, _g_new)\n",
    "        res = self.node_dec(_g['nodes'])\n",
    "        if return_logits:\n",
    "            return res\n",
    "        else:\n",
    "            return tf.nn.sigmoid(res)"
   ]
  },
  {
   "cell_type": "code",
   "execution_count": 8,
   "metadata": {},
   "outputs": [],
   "source": [
    "n_classes = train_data[0][1].shape[1]\n",
    "model = MPNNNodeClassifier(enc_units=512, mpnn_units=512, mp_steps = 4, n_classes_out=n_classes)\n"
   ]
  },
  {
   "cell_type": "code",
   "execution_count": 9,
   "metadata": {},
   "outputs": [],
   "source": [
    "opt = tf.keras.optimizers.Adam(learning_rate=0.0001, clipnorm=1.)"
   ]
  },
  {
   "cell_type": "code",
   "execution_count": 10,
   "metadata": {},
   "outputs": [],
   "source": [
    "train_data = TfgPPI(ppi_root = '.', split='train').get_prepared_data(batch_size=2, shuffle = True, for_pyg = False)"
   ]
  },
  {
   "cell_type": "code",
   "execution_count": 11,
   "metadata": {},
   "outputs": [],
   "source": [
    "@tf.function\n",
    "def train_step(y_true, g_inp):\n",
    "    with tf.GradientTape() as tape:\n",
    "        x_out = model(g_inp, return_logits = True)\n",
    "        loss = tf.nn.sigmoid_cross_entropy_with_logits(y_true, x_out)\n",
    "        grad = tape.gradient(loss, model.weights)\n",
    "        opt.apply_gradients(zip(grad, model.weights))\n",
    "    return tf.reduce_mean(loss)\n",
    "\n",
    "@tf.function\n",
    "def _full_set_loss_comp(which_set = 'train'):\n",
    "    set_dict = {\n",
    "        'train' : train_data,\n",
    "        'test' : test_data,\n",
    "        'val' : val_data\n",
    "    }\n",
    "    losses = []\n",
    "    for g_in , y in set_dict[which_set]:\n",
    "        res = model(g_in, return_logits = True)\n",
    "        loss = tf.nn.sigmoid_cross_entropy_with_logits(y, res)\n",
    "        losses.append(loss)\n",
    "    return tf.reduce_mean(losses)\n"
   ]
  },
  {
   "cell_type": "code",
   "execution_count": 12,
   "metadata": {},
   "outputs": [],
   "source": [
    "train_losses = []\n",
    "val_losses = []\n",
    "test_losses = []"
   ]
  },
  {
   "cell_type": "code",
   "execution_count": null,
   "metadata": {},
   "outputs": [
    {
     "data": {
      "image/png": "[encoded data removed]",
      "text/plain": [
       "<Figure size 1000x500 with 2 Axes>"
      ]
     },
     "metadata": {},
     "output_type": "display_data"
    },
    {
     "name": "stderr",
     "output_type": "stream",
     "text": [
      "100%|██████████| 1/1 [00:01<00:00,  1.51s/it]\n"
     ]
    }
   ],
   "source": [
    "from IPython.display import clear_output\n",
    "import numpy as np\n",
    "\n",
    "num_epochs = 500\n",
    "for e in tqdm(range(num_epochs)):\n",
    "    \n",
    "    _train_losses = []\n",
    "    for graph_inp, labels in tqdm(train_data):\n",
    "        l = train_step( labels, graph_inp)\n",
    "        _train_losses.append(l)\n",
    "    train_losses.append(np.mean(_train_losses))\n",
    "    val_losses.append(_full_set_loss_comp('val'))\n",
    "    test_losses.append(_full_set_loss_comp('test'))\n",
    "    clear_output()\n",
    "    pplot.figure(figsize = (10,5), dpi  =100)\n",
    "    pplot.subplot(1,2,1)\n",
    "    pplot.plot(train_losses)\n",
    "    pplot.title('training loss')\n",
    "    pplot.grid()\n",
    "    pplot.subplot(1,2,2)\n",
    "    \n",
    "    pplot.plot(val_losses,label = 'val')\n",
    "    pplot.plot(test_losses,label = 'test')\n",
    "    pplot.title('Test/Val losses')\n",
    "    pplot.grid()\n",
    "    pplot.legend()\n",
    "    pplot.pause(.1)"
   ]
  },
  {
   "cell_type": "markdown",
   "metadata": {},
   "source": [
    "## Evaluation"
   ]
  },
  {
   "cell_type": "code",
   "execution_count": null,
   "metadata": {},
   "outputs": [],
   "source": [
    "test_node_vals, test_pred = test_data[0][1], model(test_data[0][0]) # test data contains only 1 graph."
   ]
  },
  {
   "cell_type": "code",
   "execution_count": 15,
   "metadata": {},
   "outputs": [],
   "source": [
    "from sklearn.metrics import roc_auc_score, f1_score, accuracy_score\n",
    "roc_auc_scores = [roc_auc_score(test_node_vals[:,i], test_pred[:,i]) for i in range(test_node_vals.shape[1])]\n",
    "f1_scores = [f1_score(test_node_vals[:,i], test_pred[:,i]>.5) for i in range(test_node_vals.shape[1])]\n",
    "accuracy_scores = [accuracy_score(test_node_vals[:,i], test_pred[:,i]>.5) for i in range(test_node_vals.shape[1])]"
   ]
  },
  {
   "cell_type": "code",
   "execution_count": 18,
   "metadata": {},
   "outputs": [
    {
     "data": {
      "text/plain": [
       "roc_auc_scores     0.995897\n",
       "f1_scores          0.973919\n",
       "accuracy_scores    0.986496\n",
       "dtype: float64"
      ]
     },
     "execution_count": 18,
     "metadata": {},
     "output_type": "execute_result"
    }
   ],
   "source": [
    "import pandas as pd\n",
    "pd.set_option('display.max_rows',None)\n",
    "test_set_metrics = pd.DataFrame([roc_auc_scores, f1_scores, accuracy_scores]).T\n",
    "test_set_metrics.columns = ['roc_auc_scores', 'f1_scores', 'accuracy_scores']\n",
    "test_set_metrics.mean()"
   ]
  },
  {
   "cell_type": "markdown",
   "metadata": {},
   "source": [
    "## Comparison with other models\n",
    "\n",
    "| Metric | GAT     | this model|\n",
    "|--------|---------|-----------|\n",
    "| F1     |  0.973  |   0.974   |\n",
    "\n",
    "\n",
    "The model performance in F1 score is comparable with the GAT reported in the [Graph Attention Networks](https://arxiv.org/pdf/1710.10903v3) paper.\n",
    "\n",
    "It's possible that with further hyper-parameter tuning or using some self-supervision tricks (e.g., pre-training the newtork on constrastive tasks or as an autoencoder) can bring the performance to state of the art. \n",
    "\n"
   ]
  }
 ],
 "metadata": {
  "kernelspec": {
   "display_name": ".venv",
   "language": "python",
   "name": "python3"
  },
  "language_info": {
   "codemirror_mode": {
    "name": "ipython",
    "version": 3
   },
   "file_extension": ".py",
   "mimetype": "text/x-python",
   "name": "python",
   "nbconvert_exporter": "python",
   "pygments_lexer": "ipython3",
   "version": "3.12.3"
  }
 },
 "nbformat": 4,
 "nbformat_minor": 2
}
